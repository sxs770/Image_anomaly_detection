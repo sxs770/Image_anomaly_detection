{
 "cells": [
  {
   "cell_type": "code",
   "execution_count": 1,
   "id": "2c64e735",
   "metadata": {},
   "outputs": [],
   "source": [
    "import torch\n",
    "import torch.nn as nn\n",
    "import torch.nn.functional as F\n",
    "\n",
    "import torch.optim as optim\n",
    "from torch.utils.data import DataLoader\n",
    "\n",
    "import torchvision\n",
    "import torchvision.transforms as transforms\n",
    "\n",
    "from matplotlib.pyplot import imshow\n",
    "%matplotlib inline\n",
    "\n",
    "device = 'cuda' if torch.cuda.is_available() else 'cpu'\n",
    "\n",
    "torch.manual_seed(777)\n",
    "if device =='cuda':\n",
    "    torch.cuda.manual_seed_all(777)"
   ]
  },
  {
   "cell_type": "code",
   "execution_count": 2,
   "id": "a669b970",
   "metadata": {},
   "outputs": [
    {
     "data": {
      "text/plain": [
       "'cuda'"
      ]
     },
     "execution_count": 2,
     "metadata": {},
     "output_type": "execute_result"
    }
   ],
   "source": [
    "device"
   ]
  },
  {
   "cell_type": "code",
   "execution_count": 3,
   "id": "4b40f3e2",
   "metadata": {},
   "outputs": [],
   "source": [
    "trans = transforms.Compose([\n",
    "    transforms.Resize((400, 400)),\n",
    "    transforms.ToTensor(),\n",
    "    transforms.Normalize((0.5, 0.5, 0.5), (0.5, 0.5, 0.5))\n",
    "])\n",
    "\n",
    "train_data = torchvision.datasets.ImageFolder(root = 'Training', transform = trans)"
   ]
  },
  {
   "cell_type": "code",
   "execution_count": 4,
   "id": "3a81295a",
   "metadata": {},
   "outputs": [],
   "source": [
    "data_loader = DataLoader(dataset = train_data, batch_size = 5, shuffle = True)"
   ]
  },
  {
   "cell_type": "code",
   "execution_count": 5,
   "id": "fa3033c0",
   "metadata": {},
   "outputs": [],
   "source": [
    "class CNN(nn.Module):\n",
    "    def __init__(self):\n",
    "        super(CNN, self).__init__()\n",
    "        self.layer1 = nn.Sequential(\n",
    "            nn.Conv2d(3, 16, 5),\n",
    "            nn.ReLU(),\n",
    "            nn.MaxPool2d(2)\n",
    "        )\n",
    "        self.layer2 = nn.Sequential(\n",
    "            nn.Conv2d(16, 32, 5),\n",
    "            nn.ReLU(),\n",
    "            nn.MaxPool2d(2)\n",
    "        )\n",
    "        self.layer3 = nn.Sequential(\n",
    "            nn.Conv2d(32, 64, 5),\n",
    "            nn.ReLU(),\n",
    "            nn.MaxPool2d(2)\n",
    "        )\n",
    "        self.layer4 = nn.Sequential(\n",
    "            nn.Conv2d(64, 128, 5),\n",
    "            nn.ReLU(),\n",
    "            nn.MaxPool2d(2)\n",
    "        )\n",
    "        self.layer5 = nn.Sequential(\n",
    "            nn.Linear(128 * 21 * 21, 120),\n",
    "            nn.ReLU(),\n",
    "            nn.Linear(120, 2)\n",
    "        )\n",
    "    \n",
    "    def forward(self, x):\n",
    "        out = self.layer1(x)\n",
    "        #print(out.shape)\n",
    "        out = self.layer2(out)\n",
    "        #print(out.shape)\n",
    "        out = self.layer3(out)\n",
    "        #print(out.shape)\n",
    "        out = self.layer4(out)\n",
    "        #print(out.shape)\n",
    "        out = out.view(out.shape[0], -1)\n",
    "        #print(out.shape)\n",
    "        out = self.layer5(out)\n",
    "        return out"
   ]
  },
  {
   "cell_type": "code",
   "execution_count": 6,
   "id": "b7860020",
   "metadata": {},
   "outputs": [],
   "source": [
    "#net = CNN().to(device)\n",
    "#test_input = (torch.Tensor(3,3,400,400)).to(device)\n",
    "#test_out = net(test_input)"
   ]
  },
  {
   "cell_type": "code",
   "execution_count": 7,
   "id": "eca5f927",
   "metadata": {},
   "outputs": [],
   "source": [
    "net = CNN().to(device)\n",
    "optimizer = optim.Adam(net.parameters(), lr = 0.0001)\n",
    "loss_func = nn.CrossEntropyLoss().to(device)"
   ]
  },
  {
   "cell_type": "code",
   "execution_count": 8,
   "id": "e1044a22",
   "metadata": {},
   "outputs": [
    {
     "name": "stdout",
     "output_type": "stream",
     "text": [
      "[Epoch:10] cost = 0.39119911193847656\n",
      "[Epoch:20] cost = 0.2548705041408539\n",
      "[Epoch:30] cost = 0.17475862801074982\n",
      "[Epoch:40] cost = 0.10319788008928299\n",
      "[Epoch:50] cost = 0.056345753371715546\n",
      "[Epoch:60] cost = 0.0377076230943203\n",
      "[Epoch:70] cost = 0.024186082184314728\n",
      "[Epoch:80] cost = 0.008995898999273777\n",
      "[Epoch:90] cost = 0.003540225327014923\n",
      "[Epoch:100] cost = 0.0021871135104447603\n",
      "Learning Finished!\n"
     ]
    }
   ],
   "source": [
    "total_batch = len(data_loader)\n",
    "\n",
    "epochs = 100\n",
    "for epoch in range(epochs):\n",
    "    avg_cost = 0.0\n",
    "    for num, data in enumerate(data_loader):\n",
    "        imgs, labels = data\n",
    "        imgs = imgs.to(device)\n",
    "        labels = labels.to(device)\n",
    "        optimizer.zero_grad()\n",
    "        out = net(imgs)\n",
    "        loss = loss_func(out, labels)\n",
    "        loss.backward()\n",
    "        optimizer.step()\n",
    "        \n",
    "        avg_cost += loss / total_batch\n",
    "    \n",
    "    if (epoch + 1) % 10 == 0:\n",
    "        print('[Epoch:{}] cost = {}'.format(epoch + 1, avg_cost))\n",
    "print('Learning Finished!')"
   ]
  },
  {
   "cell_type": "code",
   "execution_count": 11,
   "id": "3589873a",
   "metadata": {},
   "outputs": [],
   "source": [
    "test_data = torchvision.datasets.ImageFolder(root = 'Test', transform = trans)\n",
    "test_set = DataLoader(dataset = test_data, batch_size = 10, shuffle = True)"
   ]
  },
  {
   "cell_type": "code",
   "execution_count": 12,
   "id": "f6b3993c",
   "metadata": {},
   "outputs": [
    {
     "name": "stdout",
     "output_type": "stream",
     "text": [
      "--------------------------------------------------\n",
      "\n",
      "Accuracy :  0.7864314317703247\n",
      "\n",
      "--------------------------------------------------\n"
     ]
    }
   ],
   "source": [
    "TotalAccuracy = 0\n",
    "\n",
    "with torch.no_grad():\n",
    "    for num, data in enumerate(test_set):\n",
    "        imgs, label = data\n",
    "        imgs = imgs.to(device)\n",
    "        label = label.to(device)\n",
    "        \n",
    "        prediction = net(imgs)\n",
    "        \n",
    "        correct_prediction = torch.argmax(prediction, 1) == label\n",
    "        \n",
    "        accuracy = correct_prediction.float().mean()\n",
    "        TotalAccuracy = TotalAccuracy + accuracy\n",
    "    TotalAccuracy = TotalAccuracy / num\n",
    "    print(\"-\"*50)\n",
    "    print(\"\")\n",
    "    print('Accuracy : ', TotalAccuracy.item())\n",
    "    #print('F1 Score : ', )\n",
    "    print(\"\")\n",
    "    print(\"-\"*50)"
   ]
  },
  {
   "cell_type": "code",
   "execution_count": 13,
   "id": "b5490625",
   "metadata": {},
   "outputs": [
    {
     "name": "stdout",
     "output_type": "stream",
     "text": [
      "tensor([[30.1312,  4.9286],\n",
      "        [ 2.3512, 15.9724],\n",
      "        [ 2.1845,  5.6641],\n",
      "        [ 5.5833, 13.2032],\n",
      "        [ 2.4495, -2.6550],\n",
      "        [10.2129, 19.4456],\n",
      "        [ 6.9490,  3.7506]], device='cuda:0')\n",
      "tensor([0, 1, 1, 1, 0, 1, 0], device='cuda:0')\n",
      "tensor([1, 1, 1, 1, 1, 1, 1], device='cuda:0')\n",
      "tensor([False,  True,  True,  True, False,  True, False], device='cuda:0')\n"
     ]
    }
   ],
   "source": [
    "TotalAccuracy = 0\n",
    "\n",
    "with torch.no_grad():\n",
    "    for num, data in enumerate(test_set):\n",
    "        imgs, label = data\n",
    "        imgs = imgs.to(device)\n",
    "        label = label.to(device)\n",
    "        \n",
    "        prediction = net(imgs)\n",
    "        \n",
    "        correct_prediction = torch.argmax(prediction, 1) == label\n",
    "        \n",
    "        accuracy = correct_prediction.float().mean()\n",
    "        TotalAccuracy = TotalAccuracy + accuracy\n",
    "    TotalAccuracy = TotalAccuracy / num\n",
    "\n",
    "    print(prediction)\n",
    "    print(torch.argmax(prediction, 1))\n",
    "    print(label)\n",
    "    print(torch.argmax(prediction, 1) == label)"
   ]
  }
 ],
 "metadata": {
  "kernelspec": {
   "display_name": "Python 3 (ipykernel)",
   "language": "python",
   "name": "python3"
  },
  "language_info": {
   "codemirror_mode": {
    "name": "ipython",
    "version": 3
   },
   "file_extension": ".py",
   "mimetype": "text/x-python",
   "name": "python",
   "nbconvert_exporter": "python",
   "pygments_lexer": "ipython3",
   "version": "3.7.11"
  }
 },
 "nbformat": 4,
 "nbformat_minor": 5
}
